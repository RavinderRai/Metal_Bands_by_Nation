{
 "cells": [
  {
   "cell_type": "markdown",
   "id": "7ef86a37",
   "metadata": {},
   "source": [
    "# Metal Bands Analysis\n",
    "\n",
    "In this notebook we analyze a kaggle dataset on metal bands, which comes from the following link: https://www.kaggle.com/datasets/mrpantherson/metal-by-nation?select=metal_bands_2017.csv."
   ]
  },
  {
   "cell_type": "markdown",
   "id": "9a61795c",
   "metadata": {},
   "source": [
    "## Data Wrangling and Cleaning"
   ]
  },
  {
   "cell_type": "code",
   "execution_count": 163,
   "id": "35a8ba29",
   "metadata": {},
   "outputs": [],
   "source": [
    "#load libraries\n",
    "import numpy as np\n",
    "import pandas as pd\n",
    "import matplotlib.pyplot as plt "
   ]
  },
  {
   "cell_type": "code",
   "execution_count": 7,
   "id": "53bfabee",
   "metadata": {},
   "outputs": [],
   "source": [
    "df = pd.read_csv('metal_bands_2017.csv', encoding='latin-1', index_col=0)"
   ]
  },
  {
   "cell_type": "code",
   "execution_count": 8,
   "id": "df98fe27",
   "metadata": {},
   "outputs": [
    {
     "data": {
      "text/html": [
       "<div>\n",
       "<style scoped>\n",
       "    .dataframe tbody tr th:only-of-type {\n",
       "        vertical-align: middle;\n",
       "    }\n",
       "\n",
       "    .dataframe tbody tr th {\n",
       "        vertical-align: top;\n",
       "    }\n",
       "\n",
       "    .dataframe thead th {\n",
       "        text-align: right;\n",
       "    }\n",
       "</style>\n",
       "<table border=\"1\" class=\"dataframe\">\n",
       "  <thead>\n",
       "    <tr style=\"text-align: right;\">\n",
       "      <th></th>\n",
       "      <th>band_name</th>\n",
       "      <th>fans</th>\n",
       "      <th>formed</th>\n",
       "      <th>origin</th>\n",
       "      <th>split</th>\n",
       "      <th>style</th>\n",
       "    </tr>\n",
       "  </thead>\n",
       "  <tbody>\n",
       "    <tr>\n",
       "      <th>0</th>\n",
       "      <td>Iron Maiden</td>\n",
       "      <td>4195</td>\n",
       "      <td>1975</td>\n",
       "      <td>United Kingdom</td>\n",
       "      <td>-</td>\n",
       "      <td>New wave of british heavy,Heavy</td>\n",
       "    </tr>\n",
       "    <tr>\n",
       "      <th>1</th>\n",
       "      <td>Opeth</td>\n",
       "      <td>4147</td>\n",
       "      <td>1990</td>\n",
       "      <td>Sweden</td>\n",
       "      <td>1990</td>\n",
       "      <td>Extreme progressive,Progressive rock,Progressive</td>\n",
       "    </tr>\n",
       "    <tr>\n",
       "      <th>2</th>\n",
       "      <td>Metallica</td>\n",
       "      <td>3712</td>\n",
       "      <td>1981</td>\n",
       "      <td>USA</td>\n",
       "      <td>-</td>\n",
       "      <td>Heavy,Bay area thrash</td>\n",
       "    </tr>\n",
       "    <tr>\n",
       "      <th>3</th>\n",
       "      <td>Megadeth</td>\n",
       "      <td>3105</td>\n",
       "      <td>1983</td>\n",
       "      <td>USA</td>\n",
       "      <td>1983</td>\n",
       "      <td>Thrash,Heavy,Hard rock</td>\n",
       "    </tr>\n",
       "    <tr>\n",
       "      <th>4</th>\n",
       "      <td>Amon Amarth</td>\n",
       "      <td>3054</td>\n",
       "      <td>1988</td>\n",
       "      <td>Sweden</td>\n",
       "      <td>-</td>\n",
       "      <td>Melodic death</td>\n",
       "    </tr>\n",
       "  </tbody>\n",
       "</table>\n",
       "</div>"
      ],
      "text/plain": [
       "     band_name  fans formed          origin split  \\\n",
       "0  Iron Maiden  4195   1975  United Kingdom     -   \n",
       "1        Opeth  4147   1990          Sweden  1990   \n",
       "2    Metallica  3712   1981             USA     -   \n",
       "3     Megadeth  3105   1983             USA  1983   \n",
       "4  Amon Amarth  3054   1988          Sweden     -   \n",
       "\n",
       "                                              style  \n",
       "0                   New wave of british heavy,Heavy  \n",
       "1  Extreme progressive,Progressive rock,Progressive  \n",
       "2                             Heavy,Bay area thrash  \n",
       "3                            Thrash,Heavy,Hard rock  \n",
       "4                                     Melodic death  "
      ]
     },
     "execution_count": 8,
     "metadata": {},
     "output_type": "execute_result"
    }
   ],
   "source": [
    "df.head()"
   ]
  },
  {
   "cell_type": "code",
   "execution_count": 25,
   "id": "660ff48b",
   "metadata": {},
   "outputs": [
    {
     "data": {
      "text/plain": [
       "Iron Maiden          2\n",
       "Kamelot              2\n",
       "Helloween            2\n",
       "Testament            2\n",
       "Epica                2\n",
       "                    ..\n",
       "Alarum               1\n",
       "Winter               1\n",
       "Visceral Bleeding    1\n",
       "Tremonti             1\n",
       "Axis Of Despair      1\n",
       "Name: band_name, Length: 4949, dtype: int64"
      ]
     },
     "execution_count": 25,
     "metadata": {},
     "output_type": "execute_result"
    }
   ],
   "source": [
    "df['band_name'].value_counts()"
   ]
  },
  {
   "cell_type": "markdown",
   "id": "9fe1795b",
   "metadata": {},
   "source": [
    "For some reason some of these bands are showing up here twice. Let'see how many and explore if there is duplicate data."
   ]
  },
  {
   "cell_type": "code",
   "execution_count": 12,
   "id": "05243d4f",
   "metadata": {},
   "outputs": [
    {
     "data": {
      "text/plain": [
       "51"
      ]
     },
     "execution_count": 12,
     "metadata": {},
     "output_type": "execute_result"
    }
   ],
   "source": [
    "sum(df['band_name'].value_counts() == 2)"
   ]
  },
  {
   "cell_type": "markdown",
   "id": "a667681f",
   "metadata": {},
   "source": [
    "So there are 51 bands that show up twice. This only can make sense if they broke up and got back together, effectively giving them two startdates. Let's see if this is the case for any of these bands. Bands that this isn't the case should have their duplicate values removed. We can use the formed column to help us here."
   ]
  },
  {
   "cell_type": "code",
   "execution_count": 30,
   "id": "5bca09fa",
   "metadata": {},
   "outputs": [
    {
     "data": {
      "text/plain": [
       "50"
      ]
     },
     "execution_count": 30,
     "metadata": {},
     "output_type": "execute_result"
    }
   ],
   "source": [
    "sum(df[['band_name', 'formed']].value_counts()==2)"
   ]
  },
  {
   "cell_type": "markdown",
   "id": "117a7530",
   "metadata": {},
   "source": [
    "So it looks like there is only one band that has different years for the formed column. Let's get rid of all the other duplicates now."
   ]
  },
  {
   "cell_type": "code",
   "execution_count": 38,
   "id": "ff7ceece",
   "metadata": {},
   "outputs": [],
   "source": [
    "df1 = df.drop_duplicates(subset=['band_name', 'formed'])"
   ]
  },
  {
   "cell_type": "markdown",
   "id": "1c3caea7",
   "metadata": {},
   "source": [
    "Now let's look at the one band left with two rows."
   ]
  },
  {
   "cell_type": "code",
   "execution_count": 47,
   "id": "ee77a706",
   "metadata": {},
   "outputs": [
    {
     "data": {
      "text/plain": [
       "Michael Schenker's Temple Of Rock     True\n",
       "Balance Of Power                     False\n",
       "Bombs Of Hades                       False\n",
       "Bloodway                             False\n",
       "Blood Farmers                        False\n",
       "                                     ...  \n",
       "Blitzkrieg                           False\n",
       "Blackthorn                           False\n",
       "Beyond Fear                          False\n",
       "ASP                                  False\n",
       "Axis Of Despair                      False\n",
       "Name: band_name, Length: 4949, dtype: bool"
      ]
     },
     "execution_count": 47,
     "metadata": {},
     "output_type": "execute_result"
    }
   ],
   "source": [
    "df1['band_name'].value_counts() == 2"
   ]
  },
  {
   "cell_type": "code",
   "execution_count": 43,
   "id": "29e68ead",
   "metadata": {},
   "outputs": [
    {
     "data": {
      "text/html": [
       "<div>\n",
       "<style scoped>\n",
       "    .dataframe tbody tr th:only-of-type {\n",
       "        vertical-align: middle;\n",
       "    }\n",
       "\n",
       "    .dataframe tbody tr th {\n",
       "        vertical-align: top;\n",
       "    }\n",
       "\n",
       "    .dataframe thead th {\n",
       "        text-align: right;\n",
       "    }\n",
       "</style>\n",
       "<table border=\"1\" class=\"dataframe\">\n",
       "  <thead>\n",
       "    <tr style=\"text-align: right;\">\n",
       "      <th></th>\n",
       "      <th>band_name</th>\n",
       "      <th>fans</th>\n",
       "      <th>formed</th>\n",
       "      <th>origin</th>\n",
       "      <th>split</th>\n",
       "      <th>style</th>\n",
       "    </tr>\n",
       "  </thead>\n",
       "  <tbody>\n",
       "    <tr>\n",
       "      <th>1713</th>\n",
       "      <td>Michael Schenker's Temple Of Rock</td>\n",
       "      <td>25</td>\n",
       "      <td>1979</td>\n",
       "      <td>Germany</td>\n",
       "      <td>1979</td>\n",
       "      <td>Hard rock</td>\n",
       "    </tr>\n",
       "    <tr>\n",
       "      <th>4734</th>\n",
       "      <td>Michael Schenker's Temple Of Rock</td>\n",
       "      <td>1</td>\n",
       "      <td>2011</td>\n",
       "      <td>Germany</td>\n",
       "      <td>-</td>\n",
       "      <td>Heavy,Hard rock</td>\n",
       "    </tr>\n",
       "  </tbody>\n",
       "</table>\n",
       "</div>"
      ],
      "text/plain": [
       "                              band_name  fans formed   origin split  \\\n",
       "1713  Michael Schenker's Temple Of Rock    25   1979  Germany  1979   \n",
       "4734  Michael Schenker's Temple Of Rock     1   2011  Germany     -   \n",
       "\n",
       "                style  \n",
       "1713        Hard rock  \n",
       "4734  Heavy,Hard rock  "
      ]
     },
     "execution_count": 43,
     "metadata": {},
     "output_type": "execute_result"
    }
   ],
   "source": [
    "df1[df1['band_name'] == 'Michael Schenker\\'s Temple Of Rock']"
   ]
  },
  {
   "cell_type": "markdown",
   "id": "c078b72c",
   "metadata": {},
   "source": [
    "After doing some quick google searches, this band doesn't have much information, and the number of fans in the second appearence here is only 1. With these being true, let's just get rid of its second appearence for easier analysis."
   ]
  },
  {
   "cell_type": "code",
   "execution_count": 48,
   "id": "b3380522",
   "metadata": {},
   "outputs": [],
   "source": [
    "df2 = df.drop_duplicates(subset=['band_name'])"
   ]
  },
  {
   "cell_type": "markdown",
   "id": "465e20f6",
   "metadata": {},
   "source": [
    "Now let's look at null values."
   ]
  },
  {
   "cell_type": "code",
   "execution_count": 94,
   "id": "78ce1d14",
   "metadata": {},
   "outputs": [],
   "source": [
    "#since we dropped some rows we need to reset the index\n",
    "df2.reset_index(drop=True, inplace=True)"
   ]
  },
  {
   "cell_type": "code",
   "execution_count": 95,
   "id": "a8893273",
   "metadata": {},
   "outputs": [
    {
     "name": "stdout",
     "output_type": "stream",
     "text": [
      "<class 'pandas.core.frame.DataFrame'>\n",
      "RangeIndex: 4949 entries, 0 to 4948\n",
      "Data columns (total 6 columns):\n",
      " #   Column     Non-Null Count  Dtype \n",
      "---  ------     --------------  ----- \n",
      " 0   band_name  4949 non-null   object\n",
      " 1   fans       4949 non-null   int64 \n",
      " 2   formed     4949 non-null   object\n",
      " 3   origin     4941 non-null   object\n",
      " 4   split      4949 non-null   object\n",
      " 5   style      4949 non-null   object\n",
      "dtypes: int64(1), object(5)\n",
      "memory usage: 232.1+ KB\n"
     ]
    }
   ],
   "source": [
    "df2.info()"
   ]
  },
  {
   "cell_type": "code",
   "execution_count": 96,
   "id": "e5159f55",
   "metadata": {},
   "outputs": [
    {
     "data": {
      "text/html": [
       "<div>\n",
       "<style scoped>\n",
       "    .dataframe tbody tr th:only-of-type {\n",
       "        vertical-align: middle;\n",
       "    }\n",
       "\n",
       "    .dataframe tbody tr th {\n",
       "        vertical-align: top;\n",
       "    }\n",
       "\n",
       "    .dataframe thead th {\n",
       "        text-align: right;\n",
       "    }\n",
       "</style>\n",
       "<table border=\"1\" class=\"dataframe\">\n",
       "  <thead>\n",
       "    <tr style=\"text-align: right;\">\n",
       "      <th></th>\n",
       "      <th>band_name</th>\n",
       "      <th>fans</th>\n",
       "      <th>formed</th>\n",
       "      <th>origin</th>\n",
       "      <th>split</th>\n",
       "      <th>style</th>\n",
       "    </tr>\n",
       "  </thead>\n",
       "  <tbody>\n",
       "    <tr>\n",
       "      <th>410</th>\n",
       "      <td>Enshine</td>\n",
       "      <td>175</td>\n",
       "      <td>2009</td>\n",
       "      <td>NaN</td>\n",
       "      <td>-</td>\n",
       "      <td>Gothic doom</td>\n",
       "    </tr>\n",
       "    <tr>\n",
       "      <th>939</th>\n",
       "      <td>Clouds</td>\n",
       "      <td>61</td>\n",
       "      <td>2013</td>\n",
       "      <td>NaN</td>\n",
       "      <td>2013</td>\n",
       "      <td>Atmospheric doom</td>\n",
       "    </tr>\n",
       "    <tr>\n",
       "      <th>1372</th>\n",
       "      <td>Subterranean Masquerade</td>\n",
       "      <td>35</td>\n",
       "      <td>1997</td>\n",
       "      <td>NaN</td>\n",
       "      <td>-</td>\n",
       "      <td>Progressive,Psychedelic rock</td>\n",
       "    </tr>\n",
       "    <tr>\n",
       "      <th>2564</th>\n",
       "      <td>Twilight Of The Gods</td>\n",
       "      <td>11</td>\n",
       "      <td>2010</td>\n",
       "      <td>NaN</td>\n",
       "      <td>-</td>\n",
       "      <td>Heavy</td>\n",
       "    </tr>\n",
       "    <tr>\n",
       "      <th>2946</th>\n",
       "      <td>Archivist</td>\n",
       "      <td>7</td>\n",
       "      <td>2015</td>\n",
       "      <td>NaN</td>\n",
       "      <td>-</td>\n",
       "      <td>Atmospheric black,Post-metal</td>\n",
       "    </tr>\n",
       "    <tr>\n",
       "      <th>3394</th>\n",
       "      <td>Metallic Taste Of Blood</td>\n",
       "      <td>5</td>\n",
       "      <td>2011</td>\n",
       "      <td>NaN</td>\n",
       "      <td>-</td>\n",
       "      <td>Progressive,Instrumental</td>\n",
       "    </tr>\n",
       "    <tr>\n",
       "      <th>3891</th>\n",
       "      <td>Level 10</td>\n",
       "      <td>3</td>\n",
       "      <td>2014</td>\n",
       "      <td>NaN</td>\n",
       "      <td>2014</td>\n",
       "      <td>Heavy,Power</td>\n",
       "    </tr>\n",
       "    <tr>\n",
       "      <th>4151</th>\n",
       "      <td>Death Penalty</td>\n",
       "      <td>2</td>\n",
       "      <td>2013</td>\n",
       "      <td>NaN</td>\n",
       "      <td>2013</td>\n",
       "      <td>Doom,Heavy</td>\n",
       "    </tr>\n",
       "  </tbody>\n",
       "</table>\n",
       "</div>"
      ],
      "text/plain": [
       "                    band_name  fans formed origin split  \\\n",
       "410                   Enshine   175   2009    NaN     -   \n",
       "939                    Clouds    61   2013    NaN  2013   \n",
       "1372  Subterranean Masquerade    35   1997    NaN     -   \n",
       "2564     Twilight Of The Gods    11   2010    NaN     -   \n",
       "2946                Archivist     7   2015    NaN     -   \n",
       "3394  Metallic Taste Of Blood     5   2011    NaN     -   \n",
       "3891                 Level 10     3   2014    NaN  2014   \n",
       "4151            Death Penalty     2   2013    NaN  2013   \n",
       "\n",
       "                             style  \n",
       "410                    Gothic doom  \n",
       "939               Atmospheric doom  \n",
       "1372  Progressive,Psychedelic rock  \n",
       "2564                         Heavy  \n",
       "2946  Atmospheric black,Post-metal  \n",
       "3394      Progressive,Instrumental  \n",
       "3891                   Heavy,Power  \n",
       "4151                    Doom,Heavy  "
      ]
     },
     "execution_count": 96,
     "metadata": {},
     "output_type": "execute_result"
    }
   ],
   "source": [
    "df2[df2['origin'].isna() == True]"
   ]
  },
  {
   "cell_type": "markdown",
   "id": "45fbab77",
   "metadata": {},
   "source": [
    "After some googling, it turns out Enshine is from Sweden. There are multiple bands named Clouds, but none that started in 2013, so unfortunately the origin data can't be found. Subterranean Masquerade is from Israel. Twilight Of The Gods has multiple places of origin. Let's do a value count and pick the one that shows up the most. The choices for this band are: Sweden / Norway / Ireland / United Kingdom."
   ]
  },
  {
   "cell_type": "code",
   "execution_count": 65,
   "id": "0c9d4409",
   "metadata": {},
   "outputs": [
    {
     "data": {
      "text/plain": [
       "USA                          1123\n",
       "Sweden                        469\n",
       "Germany                       392\n",
       "United Kingdom                339\n",
       "Finland                       300\n",
       "                             ... \n",
       "Australia, United Kingdom       1\n",
       "Sweden, Finland                 1\n",
       "Hungary, United Kingdom         1\n",
       "Colombia, USA                   1\n",
       "Greenland                       1\n",
       "Name: origin, Length: 113, dtype: int64"
      ]
     },
     "execution_count": 65,
     "metadata": {},
     "output_type": "execute_result"
    }
   ],
   "source": [
    " df2['origin'].value_counts()"
   ]
  },
  {
   "cell_type": "markdown",
   "id": "91ea11e7",
   "metadata": {},
   "source": [
    "Okay, so we will simply say that Twilight Of The Gods is from Sweden. Next is Archivist, which also has many places of origin, but most of the members are from Austria, so we will put that. Metallic Taste Of Blood has multiple places of origin as well, one of which is the USA, which has the most occurences so we will add this to that. The same thing is true for Level 10 as well. Death Penalty has only two places of origin, one being Belgium and the other being the UK. We will select the UK because it has more occurences. \n",
    "\n",
    "Now we can fix this dataset by adding all these values, although we will just delete the row with the band Clouds since its origin is unknown and it is only one band."
   ]
  },
  {
   "cell_type": "code",
   "execution_count": 109,
   "id": "b02c501b",
   "metadata": {},
   "outputs": [],
   "source": [
    "df2.iloc[410, 3] = 'Sweden'\n",
    "df2.iloc[1372, 3] = 'Israel'\n",
    "df2.iloc[2564, 3] = 'Sweden'\n",
    "df2.iloc[2946, 3] = 'Austria'\n",
    "df2.iloc[3394, 3] = 'USA'\n",
    "df2.iloc[3891, 3] = 'USA'\n",
    "df2.iloc[4151, 3] = 'United Kingdom'"
   ]
  },
  {
   "cell_type": "code",
   "execution_count": 110,
   "id": "100fe263",
   "metadata": {},
   "outputs": [],
   "source": [
    "df2 = df2[df2['band_name'] != 'Clouds']"
   ]
  },
  {
   "cell_type": "code",
   "execution_count": 112,
   "id": "46a2fe09",
   "metadata": {},
   "outputs": [
    {
     "name": "stdout",
     "output_type": "stream",
     "text": [
      "<class 'pandas.core.frame.DataFrame'>\n",
      "RangeIndex: 4948 entries, 0 to 4947\n",
      "Data columns (total 6 columns):\n",
      " #   Column     Non-Null Count  Dtype \n",
      "---  ------     --------------  ----- \n",
      " 0   band_name  4948 non-null   object\n",
      " 1   fans       4948 non-null   int64 \n",
      " 2   formed     4948 non-null   object\n",
      " 3   origin     4948 non-null   object\n",
      " 4   split      4948 non-null   object\n",
      " 5   style      4948 non-null   object\n",
      "dtypes: int64(1), object(5)\n",
      "memory usage: 232.1+ KB\n"
     ]
    }
   ],
   "source": [
    "df2.info()"
   ]
  },
  {
   "cell_type": "markdown",
   "id": "6c9bb050",
   "metadata": {},
   "source": [
    "Some values in the formed column are also just a '-' sign. This is like a null value, but below you can see there are only 4 of them with not many fans so let's just remove them."
   ]
  },
  {
   "cell_type": "code",
   "execution_count": 136,
   "id": "f62fafb4",
   "metadata": {},
   "outputs": [
    {
     "data": {
      "text/html": [
       "<div>\n",
       "<style scoped>\n",
       "    .dataframe tbody tr th:only-of-type {\n",
       "        vertical-align: middle;\n",
       "    }\n",
       "\n",
       "    .dataframe tbody tr th {\n",
       "        vertical-align: top;\n",
       "    }\n",
       "\n",
       "    .dataframe thead th {\n",
       "        text-align: right;\n",
       "    }\n",
       "</style>\n",
       "<table border=\"1\" class=\"dataframe\">\n",
       "  <thead>\n",
       "    <tr style=\"text-align: right;\">\n",
       "      <th></th>\n",
       "      <th>band_name</th>\n",
       "      <th>fans</th>\n",
       "      <th>formed</th>\n",
       "      <th>origin</th>\n",
       "      <th>split</th>\n",
       "      <th>style</th>\n",
       "    </tr>\n",
       "  </thead>\n",
       "  <tbody>\n",
       "    <tr>\n",
       "      <th>4391</th>\n",
       "      <td>Throes Of Sanity</td>\n",
       "      <td>2</td>\n",
       "      <td>-</td>\n",
       "      <td>USA</td>\n",
       "      <td>-</td>\n",
       "      <td>Us power</td>\n",
       "    </tr>\n",
       "    <tr>\n",
       "      <th>4548</th>\n",
       "      <td>Doomocracy</td>\n",
       "      <td>1</td>\n",
       "      <td>-</td>\n",
       "      <td>Greece</td>\n",
       "      <td>-</td>\n",
       "      <td>Doom</td>\n",
       "    </tr>\n",
       "    <tr>\n",
       "      <th>4769</th>\n",
       "      <td>Rustless</td>\n",
       "      <td>1</td>\n",
       "      <td>-</td>\n",
       "      <td>Italy</td>\n",
       "      <td>-</td>\n",
       "      <td>Heavy</td>\n",
       "    </tr>\n",
       "    <tr>\n",
       "      <th>4896</th>\n",
       "      <td>Weapon UK</td>\n",
       "      <td>1</td>\n",
       "      <td>-</td>\n",
       "      <td>United Kingdom</td>\n",
       "      <td>-</td>\n",
       "      <td>New wave of british heavy,Heavy</td>\n",
       "    </tr>\n",
       "  </tbody>\n",
       "</table>\n",
       "</div>"
      ],
      "text/plain": [
       "             band_name  fans formed          origin split  \\\n",
       "4391  Throes Of Sanity     2      -             USA     -   \n",
       "4548        Doomocracy     1      -          Greece     -   \n",
       "4769          Rustless     1      -           Italy     -   \n",
       "4896         Weapon UK     1      -  United Kingdom     -   \n",
       "\n",
       "                                style  \n",
       "4391                         Us power  \n",
       "4548                             Doom  \n",
       "4769                            Heavy  \n",
       "4896  New wave of british heavy,Heavy  "
      ]
     },
     "execution_count": 136,
     "metadata": {},
     "output_type": "execute_result"
    }
   ],
   "source": [
    "df2[df2['formed'] == '-']"
   ]
  },
  {
   "cell_type": "code",
   "execution_count": 137,
   "id": "ea204486",
   "metadata": {},
   "outputs": [],
   "source": [
    "df2 = df2[df2['formed'] != '-']\n",
    "\n",
    "#reset index again\n",
    "df2.reset_index(drop=True, inplace=True)"
   ]
  },
  {
   "cell_type": "markdown",
   "id": "941aa046",
   "metadata": {},
   "source": [
    "So now we have no null values. The final cleaning step is to look at the split column. From the rows that we have seen so far, there seem to be an oddly large number of bands that formed and split in the same year. Let's explore how many."
   ]
  },
  {
   "cell_type": "code",
   "execution_count": 138,
   "id": "017250af",
   "metadata": {},
   "outputs": [
    {
     "data": {
      "text/html": [
       "<div>\n",
       "<style scoped>\n",
       "    .dataframe tbody tr th:only-of-type {\n",
       "        vertical-align: middle;\n",
       "    }\n",
       "\n",
       "    .dataframe tbody tr th {\n",
       "        vertical-align: top;\n",
       "    }\n",
       "\n",
       "    .dataframe thead th {\n",
       "        text-align: right;\n",
       "    }\n",
       "</style>\n",
       "<table border=\"1\" class=\"dataframe\">\n",
       "  <thead>\n",
       "    <tr style=\"text-align: right;\">\n",
       "      <th></th>\n",
       "      <th>band_name</th>\n",
       "      <th>fans</th>\n",
       "      <th>formed</th>\n",
       "      <th>origin</th>\n",
       "      <th>split</th>\n",
       "      <th>style</th>\n",
       "    </tr>\n",
       "  </thead>\n",
       "  <tbody>\n",
       "    <tr>\n",
       "      <th>1</th>\n",
       "      <td>Opeth</td>\n",
       "      <td>4147</td>\n",
       "      <td>1990</td>\n",
       "      <td>Sweden</td>\n",
       "      <td>1990</td>\n",
       "      <td>Extreme progressive,Progressive rock,Progressive</td>\n",
       "    </tr>\n",
       "    <tr>\n",
       "      <th>3</th>\n",
       "      <td>Megadeth</td>\n",
       "      <td>3105</td>\n",
       "      <td>1983</td>\n",
       "      <td>USA</td>\n",
       "      <td>1983</td>\n",
       "      <td>Thrash,Heavy,Hard rock</td>\n",
       "    </tr>\n",
       "    <tr>\n",
       "      <th>5</th>\n",
       "      <td>Slayer</td>\n",
       "      <td>2955</td>\n",
       "      <td>1981</td>\n",
       "      <td>USA</td>\n",
       "      <td>1981</td>\n",
       "      <td>Thrash</td>\n",
       "    </tr>\n",
       "    <tr>\n",
       "      <th>7</th>\n",
       "      <td>Dream Theater</td>\n",
       "      <td>2329</td>\n",
       "      <td>1985</td>\n",
       "      <td>USA</td>\n",
       "      <td>1985</td>\n",
       "      <td>Progressive</td>\n",
       "    </tr>\n",
       "    <tr>\n",
       "      <th>9</th>\n",
       "      <td>Nightwish</td>\n",
       "      <td>2183</td>\n",
       "      <td>1996</td>\n",
       "      <td>Finland</td>\n",
       "      <td>1996</td>\n",
       "      <td>Symphonic power,Gothic,Symphonic</td>\n",
       "    </tr>\n",
       "    <tr>\n",
       "      <th>...</th>\n",
       "      <td>...</td>\n",
       "      <td>...</td>\n",
       "      <td>...</td>\n",
       "      <td>...</td>\n",
       "      <td>...</td>\n",
       "      <td>...</td>\n",
       "    </tr>\n",
       "    <tr>\n",
       "      <th>4935</th>\n",
       "      <td>Argus (Ro)</td>\n",
       "      <td>0</td>\n",
       "      <td>1996</td>\n",
       "      <td>Romania</td>\n",
       "      <td>1996</td>\n",
       "      <td>Black</td>\n",
       "    </tr>\n",
       "    <tr>\n",
       "      <th>4937</th>\n",
       "      <td>As I Lay Dying (AUT)</td>\n",
       "      <td>0</td>\n",
       "      <td>1991</td>\n",
       "      <td>Austria</td>\n",
       "      <td>1991</td>\n",
       "      <td>Death,Melodic doom</td>\n",
       "    </tr>\n",
       "    <tr>\n",
       "      <th>4939</th>\n",
       "      <td>Atara</td>\n",
       "      <td>0</td>\n",
       "      <td>2006</td>\n",
       "      <td>France</td>\n",
       "      <td>2006</td>\n",
       "      <td>Black,Grindcore</td>\n",
       "    </tr>\n",
       "    <tr>\n",
       "      <th>4941</th>\n",
       "      <td>Awake</td>\n",
       "      <td>0</td>\n",
       "      <td>2006</td>\n",
       "      <td>United Kingdom</td>\n",
       "      <td>2006</td>\n",
       "      <td>Heavy,Progressive</td>\n",
       "    </tr>\n",
       "    <tr>\n",
       "      <th>4943</th>\n",
       "      <td>Axis Of Despair</td>\n",
       "      <td>0</td>\n",
       "      <td>2014</td>\n",
       "      <td>Sweden</td>\n",
       "      <td>2014</td>\n",
       "      <td>Grindcore</td>\n",
       "    </tr>\n",
       "  </tbody>\n",
       "</table>\n",
       "<p>2472 rows × 6 columns</p>\n",
       "</div>"
      ],
      "text/plain": [
       "                 band_name  fans formed          origin split  \\\n",
       "1                    Opeth  4147   1990          Sweden  1990   \n",
       "3                 Megadeth  3105   1983             USA  1983   \n",
       "5                   Slayer  2955   1981             USA  1981   \n",
       "7            Dream Theater  2329   1985             USA  1985   \n",
       "9                Nightwish  2183   1996         Finland  1996   \n",
       "...                    ...   ...    ...             ...   ...   \n",
       "4935            Argus (Ro)     0   1996         Romania  1996   \n",
       "4937  As I Lay Dying (AUT)     0   1991         Austria  1991   \n",
       "4939                 Atara     0   2006          France  2006   \n",
       "4941                 Awake     0   2006  United Kingdom  2006   \n",
       "4943       Axis Of Despair     0   2014          Sweden  2014   \n",
       "\n",
       "                                                 style  \n",
       "1     Extreme progressive,Progressive rock,Progressive  \n",
       "3                               Thrash,Heavy,Hard rock  \n",
       "5                                               Thrash  \n",
       "7                                          Progressive  \n",
       "9                     Symphonic power,Gothic,Symphonic  \n",
       "...                                                ...  \n",
       "4935                                             Black  \n",
       "4937                                Death,Melodic doom  \n",
       "4939                                   Black,Grindcore  \n",
       "4941                                 Heavy,Progressive  \n",
       "4943                                         Grindcore  \n",
       "\n",
       "[2472 rows x 6 columns]"
      ]
     },
     "execution_count": 138,
     "metadata": {},
     "output_type": "execute_result"
    }
   ],
   "source": [
    "df2[df2['formed'] == df2['split']]"
   ]
  },
  {
   "cell_type": "markdown",
   "id": "6337165f",
   "metadata": {},
   "source": [
    "About half of the data has this issue it seems. One can notice some popular bands here, like Megadeth and Slayer, who certainly did not split apart the same year they formed. The split column is probably not going to be useful as it stands, and there are too many datapoints to address individually here if we were to fix the problem manually. Let's just drop the column for now then."
   ]
  },
  {
   "cell_type": "code",
   "execution_count": 139,
   "id": "a4be88ff",
   "metadata": {},
   "outputs": [
    {
     "data": {
      "text/html": [
       "<div>\n",
       "<style scoped>\n",
       "    .dataframe tbody tr th:only-of-type {\n",
       "        vertical-align: middle;\n",
       "    }\n",
       "\n",
       "    .dataframe tbody tr th {\n",
       "        vertical-align: top;\n",
       "    }\n",
       "\n",
       "    .dataframe thead th {\n",
       "        text-align: right;\n",
       "    }\n",
       "</style>\n",
       "<table border=\"1\" class=\"dataframe\">\n",
       "  <thead>\n",
       "    <tr style=\"text-align: right;\">\n",
       "      <th></th>\n",
       "      <th>band_name</th>\n",
       "      <th>fans</th>\n",
       "      <th>formed</th>\n",
       "      <th>origin</th>\n",
       "      <th>style</th>\n",
       "    </tr>\n",
       "  </thead>\n",
       "  <tbody>\n",
       "    <tr>\n",
       "      <th>0</th>\n",
       "      <td>Iron Maiden</td>\n",
       "      <td>4195</td>\n",
       "      <td>1975</td>\n",
       "      <td>United Kingdom</td>\n",
       "      <td>New wave of british heavy,Heavy</td>\n",
       "    </tr>\n",
       "    <tr>\n",
       "      <th>1</th>\n",
       "      <td>Opeth</td>\n",
       "      <td>4147</td>\n",
       "      <td>1990</td>\n",
       "      <td>Sweden</td>\n",
       "      <td>Extreme progressive,Progressive rock,Progressive</td>\n",
       "    </tr>\n",
       "    <tr>\n",
       "      <th>2</th>\n",
       "      <td>Metallica</td>\n",
       "      <td>3712</td>\n",
       "      <td>1981</td>\n",
       "      <td>USA</td>\n",
       "      <td>Heavy,Bay area thrash</td>\n",
       "    </tr>\n",
       "  </tbody>\n",
       "</table>\n",
       "</div>"
      ],
      "text/plain": [
       "     band_name  fans formed          origin  \\\n",
       "0  Iron Maiden  4195   1975  United Kingdom   \n",
       "1        Opeth  4147   1990          Sweden   \n",
       "2    Metallica  3712   1981             USA   \n",
       "\n",
       "                                              style  \n",
       "0                   New wave of british heavy,Heavy  \n",
       "1  Extreme progressive,Progressive rock,Progressive  \n",
       "2                             Heavy,Bay area thrash  "
      ]
     },
     "execution_count": 139,
     "metadata": {},
     "output_type": "execute_result"
    }
   ],
   "source": [
    "df3 = df2.drop(columns = ['split'])\n",
    "df3.head(3)"
   ]
  },
  {
   "cell_type": "markdown",
   "id": "b6f3c67d",
   "metadata": {},
   "source": [
    "## Data Exploration"
   ]
  },
  {
   "cell_type": "code",
   "execution_count": 140,
   "id": "1e37fdec",
   "metadata": {},
   "outputs": [
    {
     "data": {
      "text/plain": [
       "Black                                         345\n",
       "Death                                         249\n",
       "Heavy                                         179\n",
       "Power                                         146\n",
       "Progressive                                   144\n",
       "                                             ... \n",
       "Progressive,Psychedelic rock                    1\n",
       "Progressive,Ambient                             1\n",
       "Depressive black,Post-metal                     1\n",
       "Atmospheric black,Drone doom,Neofolk,Noise      1\n",
       "Avantgarde death                                1\n",
       "Name: style, Length: 1227, dtype: int64"
      ]
     },
     "execution_count": 140,
     "metadata": {},
     "output_type": "execute_result"
    }
   ],
   "source": [
    "df3['style'].value_counts()"
   ]
  },
  {
   "cell_type": "code",
   "execution_count": 147,
   "id": "29494a2f",
   "metadata": {},
   "outputs": [
    {
     "name": "stdout",
     "output_type": "stream",
     "text": [
      "<class 'pandas.core.frame.DataFrame'>\n",
      "RangeIndex: 4944 entries, 0 to 4943\n",
      "Data columns (total 5 columns):\n",
      " #   Column     Non-Null Count  Dtype \n",
      "---  ------     --------------  ----- \n",
      " 0   band_name  4944 non-null   object\n",
      " 1   fans       4944 non-null   int64 \n",
      " 2   formed     4944 non-null   int32 \n",
      " 3   origin     4944 non-null   object\n",
      " 4   style      4944 non-null   object\n",
      "dtypes: int32(1), int64(1), object(3)\n",
      "memory usage: 173.9+ KB\n"
     ]
    }
   ],
   "source": [
    "df3 = df3.astype({'formed': int})\n",
    "\n",
    "df3.info()"
   ]
  },
  {
   "cell_type": "code",
   "execution_count": 167,
   "id": "5bb5c687",
   "metadata": {},
   "outputs": [],
   "source": [
    "df_temp = df3[['formed', 'fans']]\n",
    "\n",
    "#grouping the total number of fans by decade, with some help from:\n",
    "#https://stackoverflow.com/questions/17764619/pandas-dataframe-group-year-index-by-decade\n",
    "fans_df = pd.Series(df_temp.groupby((df_temp['formed']//10)*10).sum()['fans'])"
   ]
  },
  {
   "cell_type": "code",
   "execution_count": 214,
   "id": "01fe86af",
   "metadata": {},
   "outputs": [
    {
     "data": {
      "image/png": "[encoded data removed]",
      "text/plain": [
       "<Figure size 800x600 with 1 Axes>"
      ]
     },
     "metadata": {},
     "output_type": "display_data"
    }
   ],
   "source": [
    "plt.rcParams[\"figure.figsize\"] = (8, 6)\n",
    "\n",
    "fans_df.plot.bar(rot=0)\n",
    "plt.title('Total number of metal fans by decade', size=14)\n",
    "plt.xlabel('decade', size=12)\n",
    "plt.ylabel('number of fans', size=12)\n",
    "plt.show()"
   ]
  },
  {
   "cell_type": "code",
   "execution_count": 185,
   "id": "4172a3af",
   "metadata": {},
   "outputs": [
    {
     "data": {
      "text/html": [
       "<div>\n",
       "<style scoped>\n",
       "    .dataframe tbody tr th:only-of-type {\n",
       "        vertical-align: middle;\n",
       "    }\n",
       "\n",
       "    .dataframe tbody tr th {\n",
       "        vertical-align: top;\n",
       "    }\n",
       "\n",
       "    .dataframe thead th {\n",
       "        text-align: right;\n",
       "    }\n",
       "</style>\n",
       "<table border=\"1\" class=\"dataframe\">\n",
       "  <thead>\n",
       "    <tr style=\"text-align: right;\">\n",
       "      <th></th>\n",
       "      <th>formed</th>\n",
       "      <th>style</th>\n",
       "    </tr>\n",
       "    <tr>\n",
       "      <th>formed</th>\n",
       "      <th></th>\n",
       "      <th></th>\n",
       "    </tr>\n",
       "  </thead>\n",
       "  <tbody>\n",
       "    <tr>\n",
       "      <th>1960</th>\n",
       "      <td>16</td>\n",
       "      <td>16</td>\n",
       "    </tr>\n",
       "    <tr>\n",
       "      <th>1970</th>\n",
       "      <td>84</td>\n",
       "      <td>84</td>\n",
       "    </tr>\n",
       "    <tr>\n",
       "      <th>1980</th>\n",
       "      <td>504</td>\n",
       "      <td>504</td>\n",
       "    </tr>\n",
       "    <tr>\n",
       "      <th>1990</th>\n",
       "      <td>1412</td>\n",
       "      <td>1412</td>\n",
       "    </tr>\n",
       "    <tr>\n",
       "      <th>2000</th>\n",
       "      <td>2192</td>\n",
       "      <td>2192</td>\n",
       "    </tr>\n",
       "    <tr>\n",
       "      <th>2010</th>\n",
       "      <td>736</td>\n",
       "      <td>736</td>\n",
       "    </tr>\n",
       "  </tbody>\n",
       "</table>\n",
       "</div>"
      ],
      "text/plain": [
       "        formed  style\n",
       "formed               \n",
       "1960        16     16\n",
       "1970        84     84\n",
       "1980       504    504\n",
       "1990      1412   1412\n",
       "2000      2192   2192\n",
       "2010       736    736"
      ]
     },
     "execution_count": 185,
     "metadata": {},
     "output_type": "execute_result"
    }
   ],
   "source": [
    "df_temp2 = df3[['formed', 'style']]\n",
    "\n",
    "df_temp2.groupby((df_temp2['formed']//10)*10).count()"
   ]
  },
  {
   "cell_type": "code",
   "execution_count": 216,
   "id": "d065f3b6",
   "metadata": {},
   "outputs": [
    {
     "data": {
      "image/png": "[encoded data removed]",
      "text/plain": [
       "<Figure size 800x600 with 1 Axes>"
      ]
     },
     "metadata": {},
     "output_type": "display_data"
    }
   ],
   "source": [
    "df3['style'].value_counts()[0:15].plot.bar(rot=75)\n",
    "plt.xlabel('subgenre', size=12)\n",
    "plt.ylabel('number of bands', size=12)\n",
    "plt.title('Most frequent metal subgenres', size=14)\n",
    "plt.show()"
   ]
  },
  {
   "cell_type": "markdown",
   "id": "e61c37da",
   "metadata": {},
   "source": [
    "So you can see after the 10 or so most popluar subgenres, the rest of the genres start to become mixes of multiple genres, or just weird sub-subgenres. Let's get these bands that have more than one genre or subgenre, and add them to the main sub genres, which would be the top ten here, going from Black metal to Brutal Death metal. These account for a lot of the data, so we will be adding a lot here. We will also allow a band that is two subgenres to be added to both. \n",
    "\n",
    "Note for Black, some genres start with the word Blackened, which is typically a subgenre of black metal, so we will let these get couunted towards black metal bands."
   ]
  },
  {
   "cell_type": "code",
   "execution_count": 237,
   "id": "33e16556",
   "metadata": {},
   "outputs": [],
   "source": [
    "#df3[df3['style'].str.contains('Nu')]"
   ]
  },
  {
   "cell_type": "code",
   "execution_count": 238,
   "id": "f43deaf7",
   "metadata": {},
   "outputs": [],
   "source": [
    "#list(df3['style'].unique())"
   ]
  },
  {
   "cell_type": "code",
   "execution_count": 250,
   "id": "5436372e",
   "metadata": {},
   "outputs": [],
   "source": [
    "def style_count(band_name):\n",
    "    band_cnt = df3[df3['style'] == band_name].shape[0]\n",
    "\n",
    "    for style in df3[df3['style'] != band_name]['style']:\n",
    "        if band_name in style:\n",
    "            band_cnt+=1\n",
    "\n",
    "    return band_cnt"
   ]
  },
  {
   "cell_type": "code",
   "execution_count": 267,
   "id": "7254571f",
   "metadata": {},
   "outputs": [
    {
     "data": {
      "image/png": "[encoded data removed]",
      "text/plain": [
       "<Figure size 800x600 with 1 Axes>"
      ]
     },
     "metadata": {},
     "output_type": "display_data"
    }
   ],
   "source": [
    "freq_dict = {'Black': style_count('Black'), \n",
    "             'Death': style_count('Death'), \n",
    "             'Heavy': style_count('Heavy'), \n",
    "             'Power': style_count('Power'), \n",
    "             'Progressive': style_count('Progressive'), \n",
    "             'Thrash': style_count('Thrash'), \n",
    "             'Melodic death': style_count('Melodic death'), \n",
    "             'Doom': style_count('Doom'), \n",
    "             'Grindcore': style_count('Grindcore')}\n",
    "\n",
    "pd.Series(data=freq_dict).plot.bar(rot=75)\n",
    "plt.xlabel('subgenre', size=12)\n",
    "plt.ylabel('number of bands', size=12)\n",
    "plt.title('Most frequent metal subgenres including sub-subgenres', size=14)\n",
    "plt.show()"
   ]
  },
  {
   "cell_type": "code",
   "execution_count": null,
   "id": "885f17bb",
   "metadata": {},
   "outputs": [],
   "source": []
  }
 ],
 "metadata": {
  "kernelspec": {
   "display_name": "Python 3 (ipykernel)",
   "language": "python",
   "name": "python3"
  },
  "language_info": {
   "codemirror_mode": {
    "name": "ipython",
    "version": 3
   },
   "file_extension": ".py",
   "mimetype": "text/x-python",
   "name": "python",
   "nbconvert_exporter": "python",
   "pygments_lexer": "ipython3",
   "version": "3.8.5"
  }
 },
 "nbformat": 4,
 "nbformat_minor": 5
}
